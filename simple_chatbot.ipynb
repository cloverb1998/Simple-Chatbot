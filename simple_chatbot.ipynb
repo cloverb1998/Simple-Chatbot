{
 "cells": [
  {
   "cell_type": "code",
   "execution_count": null,
   "id": "827d58fa-a9e9-49c2-b13f-99609d299a0e",
   "metadata": {},
   "outputs": [],
   "source": [
    "while True:\n",
    "    user_input= input(\"You: \")\n",
    "    if user_input.lower() == \"exit\":\n",
    "        print(\"Goodbye!\")\n",
    "        break\n",
    "    elif user_input.lower() == \"hello\":\n",
    "        print(\"Hi! How can I help you?\")\n",
    "    elif user_input.lower() == \"what's your name\":\n",
    "        print(\"I'm Clover, a simple chatbot!\")\n",
    "    else:\n",
    "        print(\"sorry, I didn't understand. Try something else!\")"
   ]
  }
 ],
 "metadata": {
  "kernelspec": {
   "display_name": "Python [conda env:base] *",
   "language": "python",
   "name": "conda-base-py"
  },
  "language_info": {
   "codemirror_mode": {
    "name": "ipython",
    "version": 3
   },
   "file_extension": ".py",
   "mimetype": "text/x-python",
   "name": "python",
   "nbconvert_exporter": "python",
   "pygments_lexer": "ipython3",
   "version": "3.12.7"
  }
 },
 "nbformat": 4,
 "nbformat_minor": 5
}
